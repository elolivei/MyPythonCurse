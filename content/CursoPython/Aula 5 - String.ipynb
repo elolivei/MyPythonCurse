{
  "cells": [
    {
      "attachments": {},
      "cell_type": "markdown",
      "metadata": {},
      "source": [
        "# O básico das Strings\n",
        "### Prof. Elias Oliveira 2023\n",
        "\n",
        "## O que é um String?\n",
        "\n",
        "* Uma string é uma sequência de caracteres. Uma metáfora útil é uma pulseira de amizade, onde você encadeia letras para fazer um nome.\n",
        "* Representam informação textual\n",
        "* Acesso pode ser feito pelo nome da variável que contém a string"
      ]
    },
    {
      "cell_type": "code",
      "execution_count": 2,
      "metadata": {
        "dotnet_interactive": {
          "language": "csharp"
        }
      },
      "outputs": [
        {
          "name": "stdout",
          "output_type": "stream",
          "text": [
            "Maria Silva\n"
          ]
        }
      ],
      "source": [
        "nome = \"Maria Silva\"\n",
        "nacionalidade = \"brasileira\"\n",
        "nome_mae = \"Ana Santos Silva\"\n",
        "nome_pai = \"Jonas Nunes Silva\"\n",
        "print(nome)"
      ]
    },
    {
      "attachments": {},
      "cell_type": "markdown",
      "metadata": {},
      "source": [
        "### Acesso a conteúdo das Strings\n",
        "* Caracteres podem ser acessados pela sua posição dentro da String\n",
        "* Primeira posição é a posição ZERO"
      ]
    },
    {
      "cell_type": "code",
      "execution_count": 3,
      "metadata": {
        "dotnet_interactive": {
          "language": "csharp"
        }
      },
      "outputs": [
        {
          "name": "stdout",
          "output_type": "stream",
          "text": [
            "E\n",
            "A\n"
          ]
        }
      ],
      "source": [
        "nome = \"Edson Arantes\"\n",
        "# imprime a primeira letra do nome\n",
        "print(nome[0])\n",
        "# Imprime a setima letra do nome\n",
        "print(nome[6])"
      ]
    },
    {
      "attachments": {},
      "cell_type": "markdown",
      "metadata": {},
      "source": [
        "## Alteração\n",
        "* O conteúdo de uma determinada posição de uma string não pode ser alterado – são sequências imutáveis"
      ]
    },
    {
      "cell_type": "code",
      "execution_count": 4,
      "metadata": {
        "dotnet_interactive": {
          "language": "csharp"
        }
      },
      "outputs": [
        {
          "ename": "TypeError",
          "evalue": "'str' object does not support item assignment",
          "output_type": "error",
          "traceback": [
            "\u001b[1;31m---------------------------------------------------------------------------\u001b[0m",
            "\u001b[1;31mTypeError\u001b[0m                                 Traceback (most recent call last)",
            "\u001b[1;32me:\\Users\\elias\\OneDrive-Fatec\\OneDrive - Fatec Centro Paula Souza\\Programação 1\\notebooks\\Aula 5 - String.ipynb Cell 6\u001b[0m in \u001b[0;36m3\n\u001b[0;32m      <a href='vscode-notebook-cell:/e%3A/Users/elias/OneDrive-Fatec/OneDrive%20-%20Fatec%20Centro%20Paula%20Souza/Programa%C3%A7%C3%A3o%201/notebooks/Aula%205%20-%20String.ipynb#X36sZmlsZQ%3D%3D?line=0'>1</a>\u001b[0m nome \u001b[39m=\u001b[39m \u001b[39m\"\u001b[39m\u001b[39mEdson Arantes\u001b[39m\u001b[39m\"\u001b[39m\n\u001b[0;32m      <a href='vscode-notebook-cell:/e%3A/Users/elias/OneDrive-Fatec/OneDrive%20-%20Fatec%20Centro%20Paula%20Souza/Programa%C3%A7%C3%A3o%201/notebooks/Aula%205%20-%20String.ipynb#X36sZmlsZQ%3D%3D?line=1'>2</a>\u001b[0m \u001b[39m# Este codigo irá gerar erro\u001b[39;00m\n\u001b[1;32m----> <a href='vscode-notebook-cell:/e%3A/Users/elias/OneDrive-Fatec/OneDrive%20-%20Fatec%20Centro%20Paula%20Souza/Programa%C3%A7%C3%A3o%201/notebooks/Aula%205%20-%20String.ipynb#X36sZmlsZQ%3D%3D?line=2'>3</a>\u001b[0m nome[\u001b[39m0\u001b[39m] \u001b[39m=\u001b[39m \u001b[39m'\u001b[39m\u001b[39me\u001b[39m\u001b[39m'\u001b[39m\n",
            "\u001b[1;31mTypeError\u001b[0m: 'str' object does not support item assignment"
          ]
        }
      ],
      "source": [
        "nome = \"Edson Arantes\"\n",
        "# Este codigo irá gerar erro\n",
        "nome[0] = 'e'"
      ]
    },
    {
      "attachments": {},
      "cell_type": "markdown",
      "metadata": {},
      "source": [
        "### Operadores\n",
        "* Alguns operadores importantes que podem ser usados em strings\n",
        "* in - Verifica se a String contem uma sub-string\n",
        "* len - Devolve o tamanho da String\n",
        "* \\+ - Cria uma nova String com concatenando os valores das Strings\n",
        "* \\* - Cria uma String contendo uma substring ( n vezes)"
      ]
    },
    {
      "cell_type": "code",
      "execution_count": 17,
      "metadata": {
        "dotnet_interactive": {
          "language": "csharp"
        }
      },
      "outputs": [
        {
          "name": "stdout",
          "output_type": "stream",
          "text": [
            "Tem Edson no nome? True\n",
            "Tem edson no nome? False\n",
            "O tamanho do nome é 13\n",
            "O nome completo do Pele é Edson Arantes Nascimento\n",
            "Edson Edson Edson Edson Edson Edson Edson Edson Edson Edson \n"
          ]
        }
      ],
      "source": [
        "nome = \"Edson Arantes\"\n",
        "# Testa se o nome contem \"Edison\" \n",
        "print(\"Tem Edson no nome?\", \"Edson\" in nome )\n",
        "# Testa se o nome contem \"edison\" repare que o case é considerado\n",
        "print(\"Tem edson no nome?\" ,\"edson\" in nome )\n",
        "# Imprime o tamanho de nome\n",
        "print( \"O tamanho do nome é\" , len(nome))\n",
        "# Concatena mais um sobrenome \"lembre que uma nova String foi criada e substituiu a antiga\"\n",
        "nome = nome + \" Nascimento\"\n",
        "print( \"O nome completo do Pele é\",nome)\n",
        "# Repetição\n",
        "nome = \"Edson \" * 10\n",
        "print(nome)"
      ]
    },
    {
      "attachments": {
        "image.png": {
          "image/png": "[encoded data removed]"
        }
      },
      "cell_type": "markdown",
      "metadata": {},
      "source": [
        "## Percorrendo uma String\n",
        "* Os elementos de uma string podem ser acessados usando uma estrutura de repetição\n",
        "* Observe alguns recursos a mais da função print\n",
        "\n",
        "![image.png](attachment:image.png)"
      ]
    },
    {
      "cell_type": "code",
      "execution_count": 23,
      "metadata": {
        "dotnet_interactive": {
          "language": "csharp"
        }
      },
      "outputs": [
        {
          "name": "stdout",
          "output_type": "stream",
          "text": [
            "a v l i S   a i r a M \n",
            "M a r i a   S i l v a "
          ]
        }
      ],
      "source": [
        "nome = \"Maria Silva\"\n",
        "# Percorrendo com laço While e imprimindo de traz para frente o nome\n",
        "i = len(nome) - 1\n",
        "while i >= 0:\n",
        "    print(nome[i],end=' ')\n",
        "    i -=1\n",
        "print()\n",
        "# Percorrendo com laço for\n",
        "for i in range(len(nome)):\n",
        "    print(nome[i],end=' ')\n"
      ]
    },
    {
      "attachments": {},
      "cell_type": "markdown",
      "metadata": {},
      "source": [
        "## Operações úteis sobre Strings\n",
        "* upper - Retorna uma String com os caracteres todos em maiuscula\n",
        "* lower - Retorna uma String com os caracteres em minusculo\n",
        "* split - Separa a string em \"pedaços\" que aparecem antes e depois do separador. \n",
        "    * Se o separador não for especificado, é usado espaços em branco, tabs e quebras de linha como separador\n",
        "* partition - Separa a string em três pedaços: o que vem antes da primeira ocorrência do separador, o\n",
        "separador e o que vem depois do separador"
      ]
    },
    {
      "cell_type": "code",
      "execution_count": 30,
      "metadata": {
        "dotnet_interactive": {
          "language": "csharp"
        }
      },
      "outputs": [
        {
          "name": "stdout",
          "output_type": "stream",
          "text": [
            "Maria Silva\n",
            "Função upper MARIA SILVA\n",
            "Função lower maria silva\n",
            "Nome: Maria\n",
            "Sobrenome: Silva\n",
            "Data: 10/02/2023\n",
            "Dia: 10\n",
            "Mes: 02\n",
            "Ano: 2023\n",
            "Antes: 10/ Sep: 02 Depois: /2023\n"
          ]
        }
      ],
      "source": [
        "nome = \"Maria Silva\"\n",
        "\n",
        "nomeUp = nome.upper()\n",
        "print (nome)\n",
        "print (\"Função upper\" , nomeUp)\n",
        "\n",
        "nomeLo = nome.lower()\n",
        "print (\"Função lower\" , nomeLo)\n",
        "# função split com separador padrão\n",
        "nomeSplit, sobrenome = nome.split()\n",
        "print (\"Nome:\",nomeSplit)\n",
        "print (\"Sobrenome:\", sobrenome)\n",
        "\n",
        "data = \"10/02/2023\"\n",
        "dia,mes,ano = data.split('/')\n",
        "print (\"Data:\", data)\n",
        "print (\"Dia:\",dia)\n",
        "print (\"Mes:\" , mes)\n",
        "print (\"Ano:\", ano)\n",
        "\n",
        "antes, sep, depois = data.partition(\"02\")\n",
        "print(\"Antes:\",antes,\"Sep:\",sep,\"Depois:\",depois)"
      ]
    },
    {
      "cell_type": "markdown",
      "metadata": {},
      "source": [
        "## Referências bibliográficas:\n",
        "\n",
        "* MEILLER, Dieter. Modern App Development with Python and Flutter 2: A Comprehensive Introduction to Flutter. Walter de Gruyter GmbH & Co KG, 2021.\n",
        "* https://www.alura.com.br/artigos/entrada-saida-dados-terminal-Python\n",
        "* https://www.respondeai.com.br/conteudo/programacao/python/lista-de-exercicios/estruturas-condicionais-2041\n",
        "\n",
        "* HEINOLD, Brian. A practical introduction to Python programming. 2021.\n"
      ]
    }
  ],
  "metadata": {
    "kernelspec": {
      "display_name": "Python 3",
      "language": "python",
      "name": "python3"
    },
    "language_info": {
      "codemirror_mode": {
        "name": "ipython",
        "version": 3
      },
      "file_extension": ".py",
      "mimetype": "text/x-python",
      "name": "python",
      "nbconvert_exporter": "python",
      "pygments_lexer": "ipython3",
      "version": "3.10.7"
    },
    "polyglot_notebook": {
      "kernelInfo": {
        "defaultKernelName": "csharp",
        "items": [
          {
            "aliases": [],
            "name": "csharp"
          }
        ]
      }
    }
  },
  "nbformat": 4,
  "nbformat_minor": 4
}
