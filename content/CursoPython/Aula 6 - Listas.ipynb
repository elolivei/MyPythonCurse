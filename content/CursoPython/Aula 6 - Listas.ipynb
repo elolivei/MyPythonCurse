{
 "cells": [
  {
   "attachments": {},
   "cell_type": "markdown",
   "metadata": {
    "dotnet_interactive": {
     "language": "csharp"
    },
    "polyglot_notebook": {
     "kernelName": "csharp"
    }
   },
   "source": [
    "# Listas\n",
    "### Professores Elias Oliveira"
   ]
  },
  {
   "attachments": {},
   "cell_type": "markdown",
   "metadata": {
    "dotnet_interactive": {
     "language": "csharp"
    },
    "polyglot_notebook": {
     "kernelName": "csharp"
    }
   },
   "source": [
    "## Listas \n",
    "* Em Python, uma lista é uma estrutura de dados genérica que pode conter qualquer tipo. "
   ]
  },
  {
   "cell_type": "code",
   "execution_count": 1,
   "metadata": {
    "dotnet_interactive": {
     "language": "csharp"
    }
   },
   "outputs": [
    {
     "name": "stdout",
     "output_type": "stream",
     "text": [
      "[]\n",
      "[27, 19, 33, 47]\n"
     ]
    }
   ],
   "source": [
    "# Lista vazia\n",
    "idades = []\n",
    "print(idades)\n",
    "\n",
    "# Lista com elementos pré-definidos\n",
    "idades = [27, 19, 33, 47]\n",
    "print(idades)"
   ]
  },
  {
   "attachments": {},
   "cell_type": "markdown",
   "metadata": {},
   "source": [
    "- Se você tiver uma lista longa para inserir, poderá dividi-la em várias linhas, como abaixo"
   ]
  },
  {
   "cell_type": "code",
   "execution_count": 1,
   "metadata": {},
   "outputs": [
    {
     "name": "stdout",
     "output_type": "stream",
     "text": [
      "[0, 1, 2, 3, 4, 5, 6, 7, 8, 9, 10, 11, 12, 13, 14, 15, 16, 17, 18, 19, 20, 21, 22, 23, 24, 25, 26, 27, 28, 29, 30, 31, 32, 33, 34, 35, 36, 37, 38, 39, 40]\n"
     ]
    }
   ],
   "source": [
    "nums = [0, 1, 2, 3, 4, 5, 6, 7, 8, 9, 10, 11, 12, 13, 14, 15, 16,\n",
    "17, 18, 19, 20, 21, 22, 23, 24, 25, 26, 27, 28, 29, 30, 31,\n",
    "32, 33, 34, 35, 36, 37, 38, 39, 40]\n",
    "print(nums)"
   ]
  },
  {
   "attachments": {},
   "cell_type": "markdown",
   "metadata": {},
   "source": [
    "- Podemos usar *eval(input())* para permitir que o usuário insira uma lista."
   ]
  },
  {
   "cell_type": "code",
   "execution_count": 3,
   "metadata": {},
   "outputs": [
    {
     "name": "stdout",
     "output_type": "stream",
     "text": [
      "O primeiro elemento da lista é 12\n",
      "[12, 23, 43]\n"
     ]
    }
   ],
   "source": [
    "L = eval(input('Entre com uma lista: '))\n",
    "print('O primeiro elemento da lista é', L[0])\n",
    "print (L)"
   ]
  },
  {
   "attachments": {},
   "cell_type": "markdown",
   "metadata": {
    "dotnet_interactive": {
     "language": "csharp"
    },
    "polyglot_notebook": {
     "kernelName": "csharp"
    }
   },
   "source": [
    "* Em Python as listas não presição ter o mesmo tipo de dado."
   ]
  },
  {
   "cell_type": "code",
   "execution_count": 4,
   "metadata": {},
   "outputs": [
    {
     "name": "stdout",
     "output_type": "stream",
     "text": [
      "['Caroline Paola Oliveira da Silva', 0, 1.7, True]\n",
      "<class 'str'>\n",
      "<class 'int'>\n",
      "<class 'float'>\n",
      "<class 'bool'>\n"
     ]
    }
   ],
   "source": [
    "dados = [\"Caroline Paola Oliveira da Silva\", 0, 1.70, True]\n",
    "print(dados)\n",
    "print(type(dados[0]))\n",
    "print(type(dados[1]))\n",
    "print(type(dados[2]))\n",
    "print(type(dados[3]))"
   ]
  },
  {
   "attachments": {},
   "cell_type": "markdown",
   "metadata": {},
   "source": [
    "* Para acessar um elemento, basta informar o nome da lista e em qual índice ele se encontra.\n",
    "* A sintaxe básica para isso é a seguinte: **lista[<índice>]**"
   ]
  },
  {
   "cell_type": "code",
   "execution_count": 6,
   "metadata": {},
   "outputs": [
    {
     "name": "stdout",
     "output_type": "stream",
     "text": [
      "Nome.........: Caroline Paola Oliveira da Silva\n",
      "Filhos.......: 0\n",
      "Estatura.....: 1.70m\n",
      "Usa Instagram: Sim\n"
     ]
    }
   ],
   "source": [
    "dados = [\"Caroline Paola Oliveira da Silva\", 0, 1.70, True]\n",
    "print(f\"Nome.........: {dados[0]}\")\n",
    "print(f\"Filhos.......: {dados[1]}\")\n",
    "print(f\"Estatura.....: {dados[2]:.2f}m\")\n",
    "if dados[3] == True:\n",
    "    print(\"Usa Instagram: Sim\")\n",
    "else:\n",
    "    print(\"Usa Instagram: Não\")"
   ]
  },
  {
   "attachments": {
    "image.png": {
     "image/png": "[encoded data removed]"
    }
   },
   "cell_type": "markdown",
   "metadata": {},
   "source": [
    "### Há uma série de coisas que funcionam da mesma maneira para listas e strings.\n",
    "- **len** — O número de itens em L é dado por *len(L)*.\n",
    "- **in** — O operador in informa se uma lista contém algo. aqui estão alguns exemplos:\n",
    "- Indexação e fatiamento — Funcionam exatamente como strings. \n",
    "- Por exemplo, *L[0]* é o primeiro item da lista L \n",
    "-  *L[:3]* fornece os três primeiros itens.\n",
    "- **+** e **\\*** — O operador + adiciona uma lista ao final de outra.\n",
    "- O operador * repete uma lista.\n",
    "\n",
    "![image.png](attachment:image.png)"
   ]
  },
  {
   "cell_type": "code",
   "execution_count": 5,
   "metadata": {},
   "outputs": [
    {
     "name": "stdout",
     "output_type": "stream",
     "text": [
      "[27, 19, 33, 47]\n",
      "Tamanho de L: 4\n",
      "Encontrado 33 em L\n",
      "Não encontrado 25 em L\n",
      "[27, 19]\n"
     ]
    }
   ],
   "source": [
    "L = [27, 19, 33, 47]\n",
    "print(L)\n",
    "# obter tamanho\n",
    "print (\"Tamanho de L:\", len(L))\n",
    "#verificar se existe valor na lista\n",
    "if(33 in L):\n",
    "    print(\"Encontrado 33 em L\")\n",
    "else:\n",
    "    print(\"Não encontrado 33 em L\")\n",
    "\n",
    "if(25 in L):\n",
    "    print(\"Encontrado 25 em L\")\n",
    "else:\n",
    "    print(\"Não encontrado 25 em L\")\n",
    "#obter uma fatia da lista\n",
    "print (L[:2])\n",
    "\n"
   ]
  },
  {
   "attachments": {
    "image.png": {
     "image/png": "[encoded data removed]"
    }
   },
   "cell_type": "markdown",
   "metadata": {},
   "source": [
    "## Funções integradas\n",
    "- Existem várias funções internas que operam em listas.\n",
    "![image.png](attachment:image.png)"
   ]
  },
  {
   "attachments": {
    "image.png": {
     "image/png": "[encoded data removed]"
    }
   },
   "cell_type": "markdown",
   "metadata": {},
   "source": [
    "## Metodos das listas\n",
    "\n",
    "![image.png](attachment:image.png)"
   ]
  },
  {
   "attachments": {},
   "cell_type": "markdown",
   "metadata": {
    "dotnet_interactive": {
     "language": "csharp"
    },
    "polyglot_notebook": {
     "kernelName": "csharp"
    }
   },
   "source": [
    "### Lista ilimitadas \n",
    "* uma lista Python não tem um número limitado de elementos. \n",
    "* Você pode adicionar quantos itens quiser, o tamanho das listas são dinâmicos. \n",
    "* devemos usar **\\<lista\\>.append(\\<elemento\\>)**\n",
    "* ou **\\<lista\\>.insert(index,\\<elemento\\>)**"
   ]
  },
  {
   "cell_type": "code",
   "execution_count": 11,
   "metadata": {
    "colab": {
     "base_uri": "https://localhost:8080/"
    },
    "dotnet_interactive": {
     "language": "csharp"
    },
    "id": "ObTCRLEEZjf5",
    "outputId": "ab6e4cf6-fa91-4d51-a522-b9bd9691306f"
   },
   "outputs": [
    {
     "name": "stdout",
     "output_type": "stream",
     "text": [
      "['', '']\n"
     ]
    },
    {
     "ename": "IndexError",
     "evalue": "list assignment index out of range",
     "output_type": "error",
     "traceback": [
      "\u001b[1;31m---------------------------------------------------------------------------\u001b[0m",
      "\u001b[1;31mIndexError\u001b[0m                                Traceback (most recent call last)",
      "\u001b[1;32me:\\Users\\elias\\OneDrive-Fatec\\OneDrive - Fatec Centro Paula Souza\\Programação 1\\notebooks\\Aula 5 - Listas.ipynb Cell 9\u001b[0m in \u001b[0;36m6\n\u001b[0;32m      <a href='vscode-notebook-cell:/e%3A/Users/elias/OneDrive-Fatec/OneDrive%20-%20Fatec%20Centro%20Paula%20Souza/Programa%C3%A7%C3%A3o%201/notebooks/Aula%205%20-%20Listas.ipynb#X15sZmlsZQ%3D%3D?line=3'>4</a>\u001b[0m cidadesArray[\u001b[39m0\u001b[39m] \u001b[39m=\u001b[39m \u001b[39m\"\u001b[39m\u001b[39mLos Angeles\u001b[39m\u001b[39m\"\u001b[39m \n\u001b[0;32m      <a href='vscode-notebook-cell:/e%3A/Users/elias/OneDrive-Fatec/OneDrive%20-%20Fatec%20Centro%20Paula%20Souza/Programa%C3%A7%C3%A3o%201/notebooks/Aula%205%20-%20Listas.ipynb#X15sZmlsZQ%3D%3D?line=4'>5</a>\u001b[0m cidadesArray[\u001b[39m1\u001b[39m] \u001b[39m=\u001b[39m \u001b[39m\"\u001b[39m\u001b[39mCidade de Nova York\u001b[39m\u001b[39m\"\u001b[39m \n\u001b[1;32m----> <a href='vscode-notebook-cell:/e%3A/Users/elias/OneDrive-Fatec/OneDrive%20-%20Fatec%20Centro%20Paula%20Souza/Programa%C3%A7%C3%A3o%201/notebooks/Aula%205%20-%20Listas.ipynb#X15sZmlsZQ%3D%3D?line=5'>6</a>\u001b[0m cidadesArray[\u001b[39m2\u001b[39m] \u001b[39m=\u001b[39m \u001b[39m\"\u001b[39m\u001b[39mDubai\u001b[39m\u001b[39m\"\u001b[39m  \u001b[39m# Dá erro pois a lista tem somente dois elementos\u001b[39;00m\n\u001b[0;32m      <a href='vscode-notebook-cell:/e%3A/Users/elias/OneDrive-Fatec/OneDrive%20-%20Fatec%20Centro%20Paula%20Souza/Programa%C3%A7%C3%A3o%201/notebooks/Aula%205%20-%20Listas.ipynb#X15sZmlsZQ%3D%3D?line=7'>8</a>\u001b[0m \u001b[39mprint\u001b[39m(cidadesArray)\n",
      "\u001b[1;31mIndexError\u001b[0m: list assignment index out of range"
     ]
    }
   ],
   "source": [
    "#nicializa o array com comprimento 2 \n",
    "cidadesArray = [\"\",\"\"] \n",
    "print(cidadesArray)\n",
    "cidadesArray[0] = \"Los Angeles\" \n",
    "cidadesArray[1] = \"Cidade de Nova York\" \n",
    "cidadesArray[2] = \"Dubai\"  # Dá erro pois a lista tem somente dois elementos\n",
    "\n",
    "print(cidadesArray)\n"
   ]
  },
  {
   "cell_type": "code",
   "execution_count": 12,
   "metadata": {
    "dotnet_interactive": {
     "language": "csharp"
    },
    "polyglot_notebook": {
     "kernelName": "csharp"
    }
   },
   "outputs": [
    {
     "name": "stdout",
     "output_type": "stream",
     "text": [
      "[]\n",
      "['Los Angeles', 'Nova York', 'Dubai']\n"
     ]
    }
   ],
   "source": [
    "#nicializa a lista  não precisa de comprimento \n",
    "citiesList = [] # Lista vazia\n",
    "print(citiesList) \n",
    "# insere 3 elementos no final\n",
    "citiesList.append(\"Los Angeles\") \n",
    "citiesList.append(\"Nova York\") \n",
    "citiesList.append(\"Dubai\")\n",
    "print(citiesList) "
   ]
  },
  {
   "cell_type": "code",
   "execution_count": 3,
   "metadata": {},
   "outputs": [
    {
     "name": "stdout",
     "output_type": "stream",
     "text": [
      "[]\n",
      "['Los Angeles', 'Dubai']\n",
      "['Los Angeles', 'Nova York', 'Dubai']\n"
     ]
    }
   ],
   "source": [
    "#nicializa a lista  não precisa de comprimento \n",
    "citiesList = [] # Lista vazia\n",
    "print(citiesList) \n",
    "citiesList.append(\"Los Angeles\") \n",
    "citiesList.append(\"Dubai\")\n",
    "print(citiesList) \n",
    "\n",
    "# insere elemento no indice 1\n",
    "citiesList.insert(1,\"Nova York\")\n",
    "print(citiesList) "
   ]
  },
  {
   "attachments": {},
   "cell_type": "markdown",
   "metadata": {
    "dotnet_interactive": {
     "language": "csharp"
    },
    "polyglot_notebook": {
     "kernelName": "csharp"
    }
   },
   "source": [
    "## comando **len**\n",
    "\n",
    "* O número de elementos em uma lista pode ser obtido pelo comando **len**.\n"
   ]
  },
  {
   "cell_type": "code",
   "execution_count": 18,
   "metadata": {
    "colab": {
     "base_uri": "https://localhost:8080/"
    },
    "dotnet_interactive": {
     "language": "csharp"
    },
    "id": "uy-B8DPeUgqj",
    "outputId": "c4f371a3-8f85-4cf9-dc7b-d45da8c31b1c"
   },
   "outputs": [
    {
     "name": "stdout",
     "output_type": "stream",
     "text": [
      "[]\n",
      "0\n",
      "1\n",
      "2\n",
      "3\n"
     ]
    }
   ],
   "source": [
    "#nicializa a lista  não precisa de comprimento \n",
    "citiesList = [] # Lista vazia\n",
    "print(citiesList) \n",
    "print(len(citiesList)) \n",
    "citiesList.append(\"Los Angeles\") \n",
    "print(len(citiesList)) \n",
    "citiesList.append(\"Nova York\") \n",
    "print(len(citiesList)) \n",
    "citiesList.append(\"Dubai\")\n",
    "print(len(citiesList)) "
   ]
  },
  {
   "attachments": {},
   "cell_type": "markdown",
   "metadata": {
    "dotnet_interactive": {
     "language": "csharp"
    },
    "polyglot_notebook": {
     "kernelName": "csharp"
    }
   },
   "source": [
    "### Remover elementos da lista\n",
    "\n",
    "* Para remover elementos de uma lista, existem os métodos **remove()** e **pop()** e a função **del**. \n",
    "* As sintaxes básicas de cada uma dessas maneiras de remover elementos de uma lista são mostradas a seguir:\n",
    "* **<lista>.remove(<elemento>)**, **<lista>.pop(<índice>)** e **del <lista>[<índice>]**\n",
    "* Para remover um elemento utilizando o método **remove()**, basta informar qual elemento se deseja excluir.\n",
    "* Se, na lista, existir mais de um elemento com o valor informado, será removido apenas a primeira ocorrência\n",
    "encontrada.\n",
    "* N método **pop()** o argumento de entrada é o índice a ser removido e não o próprio elemento.\n",
    "* Se o índice não for informado, o método removerá o último elemento da lista.\n",
    "* A função del informam-se o nome da lista e em qual índice o elemento se encontra. \n",
    "* Se não for informado o índice da lista que se deseja remover o elemento, a função del destruirá a variável do tipo lista."
   ]
  },
  {
   "cell_type": "code",
   "execution_count": 23,
   "metadata": {
    "dotnet_interactive": {
     "language": "csharp"
    }
   },
   "outputs": [
    {
     "name": "stdout",
     "output_type": "stream",
     "text": [
      "Removendo a primeira ocorrência do elemento Adriana...\n",
      "['Adriana', 'Camila', 'Danielle', 'Fernanda', 'Helena', 'Paolla', 'Raquel', 'Viola']\n",
      "Removendo o elemento de índice 1, que é Camila...\n",
      "['Adriana', 'Danielle', 'Fernanda', 'Helena', 'Paolla', 'Raquel', 'Viola']\n",
      "Índice não foi informado. Remove o último elemento: Viola\n",
      "['Adriana', 'Danielle', 'Fernanda', 'Helena', 'Paolla', 'Raquel']\n",
      "Removendo o novo elemento de índice 1, que é Danielle...\n",
      "['Adriana', 'Fernanda', 'Helena', 'Paolla', 'Raquel']\n"
     ]
    }
   ],
   "source": [
    "atrizes = [\"Adriana\", \"Adriana\", \"Camila\",\n",
    "\"Danielle\", \"Fernanda\", \"Helena\",\n",
    "\"Paolla\", \"Raquel\", \"Viola\"]\n",
    "\n",
    "print(\"Removendo a primeira ocorrência do elemento Adriana...\")\n",
    "atrizes.remove(\"Adriana\")\n",
    "print(atrizes)\n",
    "\n",
    "print(\"Removendo o elemento de índice 1, que é Camila...\")\n",
    "atrizes.pop(1)\n",
    "print(atrizes)\n",
    "\n",
    "print(\"Índice não foi informado. Remove o último elemento: Viola\")\n",
    "atrizes.pop()\n",
    "print(atrizes)\n",
    "\n",
    "print(\"Removendo o novo elemento de índice 1, que é Danielle...\")\n",
    "del atrizes[1]\n",
    "print(atrizes)\n",
    "\n",
    "del atrizes #Destroi a variável atrizes"
   ]
  },
  {
   "attachments": {},
   "cell_type": "markdown",
   "metadata": {},
   "source": [
    "## Função extend \n",
    "– “Mescla” duas listas, fazendo com que passe a existir apenas uma, com todos os elementos."
   ]
  },
  {
   "cell_type": "code",
   "execution_count": 4,
   "metadata": {},
   "outputs": [
    {
     "name": "stdout",
     "output_type": "stream",
     "text": [
      "[0, 10.0, 7.0, 7.0, 8.0, 8.0, 'gato', 'tatu', 'rato', 'pato']\n"
     ]
    }
   ],
   "source": [
    "# Lista de valores \n",
    "notas = [0, 10.0, 7.0, 7.0, 8.0, 8.0] \n",
    "# Lista de strings \n",
    "animais = ['gato','tatu','rato','pato'] \n",
    "# Mescla as listas\n",
    "notas.extend(animais) \n",
    "# Imprime a nova lista de notas\n",
    "print( notas ) "
   ]
  },
  {
   "attachments": {},
   "cell_type": "markdown",
   "metadata": {},
   "source": [
    "## Operações Matemáticas com Listas no Python"
   ]
  },
  {
   "cell_type": "code",
   "execution_count": 7,
   "metadata": {},
   "outputs": [
    {
     "name": "stdout",
     "output_type": "stream",
     "text": [
      "['z', 'y', 'x']\n",
      "['z', 'y', 'x', 3]\n",
      "['z', 'y', 'x', 3, 'z', 'y', 'x', 3]\n"
     ]
    }
   ],
   "source": [
    "# Soma listas \n",
    "exemplo = ['z', 'y'] + ['x',] \n",
    "# Imprime a lista após a soma \n",
    "print( exemplo ) \n",
    "# Soma listas\n",
    "exemplo += [3,] \n",
    "# Imprime a lista após a nova soma\n",
    "print( exemplo ) \n",
    "# Retorna Multiplicação da lista\n",
    "exemplo2 = exemplo * 2 \n",
    "print( exemplo2 ) "
   ]
  },
  {
   "attachments": {},
   "cell_type": "markdown",
   "metadata": {
    "dotnet_interactive": {
     "language": "csharp"
    },
    "polyglot_notebook": {
     "kernelName": "csharp"
    }
   },
   "source": [
    "### método **Clear()**\n",
    "\n",
    "* Todos os elementos de uma lista podem ser removidos com o método Clear(). \n",
    "* Não retorna nada.\n",
    "\n",
    "* No código de exemplo, a lista é inicializada com três itens. Depois de ligar Clear(), há zero itens na lista.\n"
   ]
  },
  {
   "cell_type": "code",
   "execution_count": 27,
   "metadata": {
    "dotnet_interactive": {
     "language": "csharp"
    }
   },
   "outputs": [
    {
     "name": "stdout",
     "output_type": "stream",
     "text": [
      "['Adriana', 'Adriana', 'Camila', 'Danielle', 'Fernanda', 'Helena', 'Paolla', 'Raquel', 'Viola']\n",
      "[]\n"
     ]
    },
    {
     "data": {
      "text/plain": [
       "0"
      ]
     },
     "execution_count": 27,
     "metadata": {},
     "output_type": "execute_result"
    }
   ],
   "source": [
    "atrizes = [\"Adriana\", \"Adriana\", \"Camila\",\n",
    "\"Danielle\", \"Fernanda\", \"Helena\",\n",
    "\"Paolla\", \"Raquel\", \"Viola\"]\n",
    "\n",
    "print(atrizes)\n",
    "\n",
    "\n",
    "atrizes.clear()\n",
    "print(atrizes)\n",
    "\n"
   ]
  },
  {
   "attachments": {},
   "cell_type": "markdown",
   "metadata": {
    "dotnet_interactive": {
     "language": "csharp"
    },
    "polyglot_notebook": {
     "kernelName": "csharp"
    }
   },
   "source": [
    "### Método **cont()**\n",
    "\n",
    "* Em Python, o método de lista **cont()** retorna a quantidade de elemnto encontrados na lista.\n",
    "* Assim, para contar quantas ocorrência de um determinado elemento existe em uma lista,\n",
    "utilizamos o método **count()**, conforme sintaxe básica abaixo:\n",
    "**\\<lista\\>.count(\\<elemento\\>)**"
   ]
  },
  {
   "cell_type": "code",
   "execution_count": 31,
   "metadata": {
    "dotnet_interactive": {
     "language": "csharp"
    }
   },
   "outputs": [
    {
     "name": "stdout",
     "output_type": "stream",
     "text": [
      "O elemento Adriana se repete 2 vezes.\n",
      "O elemento Helena se repete 1 vezes.\n",
      "O elemento Heloisa se repete 0 vezes.\n"
     ]
    }
   ],
   "source": [
    "atrizes = [\"Adriana\", \"Adriana\", \"Camila\",\n",
    "\"Danielle\", \"Fernanda\", \"Helena\",\n",
    "\"Paolla\", \"Raquel\", \"Viola\"]\n",
    "\n",
    "ocorrencias = atrizes.count(\"Adriana\")\n",
    "print(f\"O elemento Adriana se repete {ocorrencias} vezes.\")\n",
    "\n",
    "ocorrencias = atrizes.count(\"Helena\")\n",
    "print(f\"O elemento Helena se repete {ocorrencias} vezes.\")\n",
    "\n",
    "ocorrencias = atrizes.count(\"Heloisa\")\n",
    "print(f\"O elemento Heloisa se repete {ocorrencias} vezes.\")\n"
   ]
  },
  {
   "attachments": {
    "image.png": {
     "image/png": "[encoded data removed]"
    }
   },
   "cell_type": "markdown",
   "metadata": {},
   "source": [
    "## Listas e o módulo aleatório\n",
    "- Existem algumas funções interessantes no módulo aleatório que funcionam em listas\n",
    "\n",
    "![image.png](attachment:image.png)"
   ]
  },
  {
   "cell_type": "code",
   "execution_count": 8,
   "metadata": {},
   "outputs": [
    {
     "name": "stdout",
     "output_type": "stream",
     "text": [
      "É a vez do jogador: Sally\n"
     ]
    }
   ],
   "source": [
    "from random import choice\n",
    "\n",
    "# Escolhe um nome na lista\n",
    "names = ['Joe', 'Bob', 'Sue', 'Sally']\n",
    "current_player = choice(names)\n",
    "print(\"É a vez do jogador:\", current_player)"
   ]
  },
  {
   "cell_type": "code",
   "execution_count": 11,
   "metadata": {},
   "outputs": [
    {
     "name": "stdout",
     "output_type": "stream",
     "text": [
      "O time 1 será formado por: ['Joe', 'Sally']\n"
     ]
    }
   ],
   "source": [
    "from random import sample\n",
    "\n",
    "# escolhe dois elementos de uma lista\n",
    "names = ['Joe', 'Bob', 'Sue', 'Sally']\n",
    "team = sample(names, 2)\n",
    "print(\"O time 1 será formado por:\",team)"
   ]
  },
  {
   "cell_type": "code",
   "execution_count": 13,
   "metadata": {},
   "outputs": [
    {
     "name": "stdout",
     "output_type": "stream",
     "text": [
      "Joe é sua vêz.\n",
      "Sally é sua vêz.\n",
      "Bob é sua vêz.\n",
      "Sue é sua vêz.\n"
     ]
    }
   ],
   "source": [
    "from random import shuffle\n",
    "\n",
    "# aleatoriza a ordem da lista\n",
    "players = ['Joe', 'Bob', 'Sue', 'Sally']\n",
    "shuffle(players)\n",
    "for p in players:\n",
    "    print(p, 'é sua vêz.')\n"
   ]
  },
  {
   "attachments": {},
   "cell_type": "markdown",
   "metadata": {},
   "source": [
    "## A função range()\n",
    "\n",
    "* Se você precisa iterar sobre sequências numéricas, a função embutida range() é a resposta. \n",
    "* Ela gera progressões aritméticas:"
   ]
  },
  {
   "cell_type": "code",
   "execution_count": 8,
   "metadata": {},
   "outputs": [
    {
     "name": "stdout",
     "output_type": "stream",
     "text": [
      "0\n",
      "1\n",
      "2\n",
      "3\n",
      "4\n"
     ]
    }
   ],
   "source": [
    "for i in range(5):\n",
    "    print(i)"
   ]
  },
  {
   "attachments": {},
   "cell_type": "markdown",
   "metadata": {},
   "source": [
    "## A função range()\n",
    "\n",
    "* Essa função é de grande ajuda quando o tema é repetição, laços, for etc.\n",
    "* Ela permite especificar o inicio de uma sequência, o passo (ou pulo) e valor final.\n",
    "* Com isso, o Python nos retorna uma sequência de números para que possamos iterar!\n",
    "* Sua sintaxe pode ter as seguintes três formas, sendo que seu único parâmetro obrigatório é o fim:\n",
    "1. range(fim)                  # range(stop) \n",
    "2. range(inicio, fim)          # range(start, stop)\n",
    "3. range(inicio, fim, passo)   # range(start, stop, step)\n",
    "* É importante ressaltar que na versão 3.x do Python, a função range() retorna um objeto iterável e não mais * uma lista com elementos, por essa razão devemos converter o retorno para listas com a função list().\n",
    "\n",
    "* Veja alguns exemplos de como criar listas com range:"
   ]
  },
  {
   "cell_type": "code",
   "execution_count": 14,
   "metadata": {},
   "outputs": [
    {
     "name": "stdout",
     "output_type": "stream",
     "text": [
      "[0, 1, 2, 3, 4]\n",
      "[-5, -4, -3, -2, -1, 0, 1, 2, 3, 4, 5, 6, 7, 8, 9]\n",
      "[0, 2, 4, 6, 8]\n"
     ]
    }
   ],
   "source": [
    "# Gerar lista com (fim)\n",
    "print(list(range(5)))\n",
    "\n",
    "# Gerar com (inicio, fim)\n",
    "print(list(range(-5, 10)))\n",
    "\n",
    "# Gerar com (inicio, fim, passo)\n",
    "print(list(range(0, 10, 2)))"
   ]
  },
  {
   "attachments": {},
   "cell_type": "markdown",
   "metadata": {},
   "source": [
    "# Avaliação I\n",
    "- em grupos de até 4 elementos desenvolva o jogo da forca.\n",
    "- lembre-se de usar os conhecimentos adiquiridos na implementação do jogo.\n",
    "- Deverá ter no mínimo 50 palavras diferentes sorteadas de maneira aleatória.\n",
    "- Na nota será considerada a apresentação e o uso dos recursos aprendidos.\n",
    "- Abaixo uma dica de como apagar a tela "
   ]
  },
  {
   "cell_type": "code",
   "execution_count": 14,
   "metadata": {},
   "outputs": [
    {
     "data": {
      "text/plain": [
       "1"
      ]
     },
     "execution_count": 14,
     "metadata": {},
     "output_type": "execute_result"
    }
   ],
   "source": [
    "import os\n",
    "os.system('clear') or None"
   ]
  },
  {
   "attachments": {},
   "cell_type": "markdown",
   "metadata": {},
   "source": [
    "## Referências bibliográficas:\n",
    "\n",
    "* PAIVA, Fábio et al. Introdução a Python com aplicações de sistemas operacionais. 2021. Disponível em: https://memoria.ifrn.edu.br/bitstream/handle/1044/2090/EBOOK%20-%20INTRODU%C3%87%C3%83O%20A%20PYTHON%20(EDITORA%20IFRN).pdf?sequence=1\n",
    "\n",
    "* https://pythonacademy.com.br/blog/operadores-aritmeticos-e-logicos-em-python\n",
    "\n",
    "* https://cienciaprogramada.com.br/2022/03/formatacao-strings-python/\n",
    "\n",
    "* http://curso.grupysanca.com.br/pt/latest/listas.html\n",
    "\n",
    "* https://pythonacademy.com.br/blog/a-funcao-range-do-python\n",
    "\n",
    "* HEINOLD, Brian. A practical introduction to Python programming. 2021.\n",
    "\n"
   ]
  }
 ],
 "metadata": {
  "kernelspec": {
   "display_name": "Python 3",
   "language": "python",
   "name": "python3"
  },
  "language_info": {
   "codemirror_mode": {
    "name": "ipython",
    "version": 3
   },
   "file_extension": ".py",
   "mimetype": "text/x-python",
   "name": "python",
   "nbconvert_exporter": "python",
   "pygments_lexer": "ipython3",
   "version": "3.10.7"
  },
  "polyglot_notebook": {
   "kernelInfo": {
    "defaultKernelName": "csharp",
    "items": [
     {
      "aliases": [
       "c#",
       "C#"
      ],
      "languageName": "C#",
      "name": "csharp"
     },
     {
      "aliases": [],
      "languageName": null,
      "name": ".NET"
     },
     {
      "aliases": [
       "f#",
       "F#"
      ],
      "languageName": "F#",
      "name": "fsharp"
     },
     {
      "aliases": [],
      "languageName": "HTML",
      "name": "html"
     },
     {
      "aliases": [],
      "languageName": "KQL",
      "name": "kql"
     },
     {
      "aliases": [],
      "languageName": "Mermaid",
      "name": "mermaid"
     },
     {
      "aliases": [
       "powershell"
      ],
      "languageName": "PowerShell",
      "name": "pwsh"
     },
     {
      "aliases": [],
      "languageName": "SQL",
      "name": "sql"
     },
     {
      "aliases": [],
      "name": "value"
     },
     {
      "aliases": [
       "frontend"
      ],
      "languageName": null,
      "name": "vscode"
     }
    ]
   }
  }
 },
 "nbformat": 4,
 "nbformat_minor": 2
}
