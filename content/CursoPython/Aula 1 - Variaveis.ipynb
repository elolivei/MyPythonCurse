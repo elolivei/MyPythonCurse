{
 "cells": [
  {
   "cell_type": "markdown",
   "metadata": {
    "dotnet_interactive": {
     "language": "csharp"
    },
    "polyglot_notebook": {
     "kernelName": "csharp"
    }
   },
   "source": [
    "# Variáveis Pyton\n",
    "# Prof. Elias Carneiro de Oliveira - 2023"
   ]
  },
  {
   "cell_type": "markdown",
   "metadata": {
    "dotnet_interactive": {
     "language": "csharp"
    },
    "polyglot_notebook": {
     "kernelName": "csharp"
    }
   },
   "source": [
    "Uma variável é um contêiner que  armazena o valor durante a execução de um programa. Uma variável é assinada com um tipo de dado.\n",
    "\n",
    "Variável recebe um nome para identificar o endereço de alocação de memória. \n",
    "\n",
    "Python é uma linguagem dinamicamente tipada, o que significa que não é necessário declarar o tipo de variável ou fazer casting (mudar o tipo de variável), pois o Interpretador se encarrega disso para nós!\n",
    "\n",
    "Isso significa também que o tipo da variável poder variar durante a execução do programa."
   ]
  },
  {
   "cell_type": "markdown",
   "metadata": {
    "dotnet_interactive": {
     "language": "csharp"
    },
    "polyglot_notebook": {
     "kernelName": "csharp"
    }
   },
   "source": [
    "## Declaração de Variáveis"
   ]
  },
  {
   "cell_type": "markdown",
   "metadata": {
    "dotnet_interactive": {
     "language": "csharp"
    },
    "polyglot_notebook": {
     "kernelName": "csharp"
    }
   },
   "source": [
    "Toda variável tem um **nome** que a **identifica univocamente e um valor**, que corresponde à informação a ela atribuida.<br>\n",
    "Por exemplo, **n=500** especifica que **n** é o nome de uma variável.\n",
    "Como ao atribuir um valor usamos um valor inteiro o python assume que o tipo de dado na variável **n** armazenar um número **inteiro** como valor no nosso caso **500**. \n",
    "<br>\n",
    "Em geral, num contexto onde aparece o nome de uma variável ocorre a **substituição por seu valor**. \n",
    "<br>\n",
    "O valor de uma variável pode mudar muitas vezes durante a execução de um programa, por meio de **atribuições de valor**.\n",
    "\n",
    "Podemos usar a instrução **type** para saber o tipo de variavel/constante."
   ]
  },
  {
   "cell_type": "code",
   "execution_count": 1,
   "metadata": {
    "dotnet_interactive": {
     "language": "csharp"
    }
   },
   "outputs": [
    {
     "name": "stdout",
     "output_type": "stream",
     "text": [
      "tipo da literal 500 \n",
      "<class 'int'>\n",
      "tipo da variavel v\n",
      "<class 'int'>\n",
      "500\n"
     ]
    }
   ],
   "source": [
    "\n",
    "#declaracao de variavel\n",
    "#identificador = valor;\n",
    "\n",
    "#declara a variavel v do tipo inteiro e valoriza com 500\n",
    "print(\"tipo da literal 500 \")\n",
    "print(type(500))\n",
    "v = 500; \n",
    "#Imprime o tipo e valor da variavel \n",
    "print(\"tipo da variavel v\")\n",
    "print(type(v))\n",
    "print (v)\n",
    "\n"
   ]
  },
  {
   "cell_type": "code",
   "execution_count": 2,
   "metadata": {
    "dotnet_interactive": {
     "language": "csharp"
    }
   },
   "outputs": [
    {
     "name": "stdout",
     "output_type": "stream",
     "text": [
      "tipo da literal 200.0 \n",
      "<class 'float'>\n",
      "Novo tipo da variavel v\n",
      "<class 'float'>\n",
      "200.0\n"
     ]
    }
   ],
   "source": [
    "#Atribui o valor 200.0 a variável v\n",
    "print(\"tipo da literal 200.0 \")\n",
    "print(type(200.0))\n",
    "v = 200.0;\n",
    "#Imprime o tipo e valor da variavel \n",
    "print(\"Novo tipo da variavel v\")\n",
    "print(type(v))\n",
    "print (v)\n",
    "\n",
    "        \n"
   ]
  },
  {
   "cell_type": "markdown",
   "metadata": {
    "dotnet_interactive": {
     "language": "csharp"
    },
    "polyglot_notebook": {
     "kernelName": "csharp"
    }
   },
   "source": [
    "## Os tipos de dados “tipos built-ins” (ou tipos construídos)  do Python são:\n",
    "\n",
    "* int – armazena valores numéricos inteiros\n",
    "* float – armazena valores numéricos com ponto flutuante\n",
    "* complex – armazena valores numéricos complexos\n",
    "* bool – armazena valores lógicos (True ou False).\n",
    "* str – armazena cadeias de caracteres\n",
    "* list – armazena conjuntos de elementos que po-\n",
    "dem ser acessados por meio de um índice\n",
    "* dic – armazena um conjunto de elementos que\n",
    "podem ser acessados por meio de uma chave."
   ]
  },
  {
   "cell_type": "markdown",
   "metadata": {
    "dotnet_interactive": {
     "language": "csharp"
    },
    "polyglot_notebook": {
     "kernelName": "csharp"
    }
   },
   "source": [
    "### Tipo de dado boleano (boolean)\n",
    "\n",
    "\n",
    "O tipo de dado boolean é usado para armazenar somente dois possíveis valores: verdadeiro e falso. (True/False)"
   ]
  },
  {
   "cell_type": "code",
   "execution_count": 11,
   "metadata": {
    "colab": {
     "base_uri": "https://localhost:8080/"
    },
    "dotnet_interactive": {
     "language": "csharp"
    },
    "executionInfo": {
     "elapsed": 36,
     "status": "ok",
     "timestamp": 1648242160313,
     "user": {
      "displayName": "Elias Oliveira",
      "photoUrl": "https://lh3.googleusercontent.com/a-/AOh14GgpCAGkkzTWvcw3pD6a3inj6_qidbkL8g3rOuykLw=s64",
      "userId": "03206662063122040189"
     },
     "user_tz": 180
    },
    "id": "personal-green",
    "outputId": "05aab1c6-981e-4110-9c28-07540b8ff08c"
   },
   "outputs": [
    {
     "name": "stdout",
     "output_type": "stream",
     "text": [
      "Valor do Boleano v \n",
      "True\n",
      "Valor do Boleano após atribuição v \n",
      "False\n"
     ]
    }
   ],
   "source": [
    "\n",
    "\n",
    "#tipos primitivos  - boleano\n",
    "v= True\n",
    "print(\"Valor do Boleano v \")\n",
    "print(v)\n",
    "v = False\n",
    "print(\"Valor do Boleano após atribuição v \")\n",
    "print(v)\n",
    "\n"
   ]
  },
  {
   "cell_type": "markdown",
   "metadata": {
    "dotnet_interactive": {
     "language": "csharp"
    },
    "polyglot_notebook": {
     "kernelName": "csharp"
    }
   },
   "source": [
    "###  Tipo de dado Inteiro (int)\n",
    "\n",
    "O tipo inteiro é um tipo composto por caracteres numéricos (algarismos) inteiros.\n",
    "\n",
    "É um tipo usado para um número que pode ser escrito sem um componente decimal, podendo ter ou não sinal, isto é: ser positivo ou negativo.\n",
    "\n",
    "Por exemplo, 21, 4, 0, e −2048 são números inteiros, enquanto 9.75, 1/2, 1.5 não são.\n",
    "\n",
    "Exemplos:"
   ]
  },
  {
   "cell_type": "code",
   "execution_count": 4,
   "metadata": {
    "colab": {
     "base_uri": "https://localhost:8080/"
    },
    "dotnet_interactive": {
     "language": "csharp"
    },
    "executionInfo": {
     "elapsed": 36,
     "status": "ok",
     "timestamp": 1648242164693,
     "user": {
      "displayName": "Elias Oliveira",
      "photoUrl": "https://lh3.googleusercontent.com/a-/AOh14GgpCAGkkzTWvcw3pD6a3inj6_qidbkL8g3rOuykLw=s64",
      "userId": "03206662063122040189"
     },
     "user_tz": 180
    },
    "id": "lXl2CmMhwbqY",
    "outputId": "75855303-0084-4cd1-f8a6-3799bc0a380d"
   },
   "outputs": [
    {
     "name": "stdout",
     "output_type": "stream",
     "text": [
      "Valor negativo do inteiro v= \n",
      "-2147483648\n",
      "Valor positivo do inteiro v= \n",
      "2147483647\n"
     ]
    }
   ],
   "source": [
    "\n",
    "\n",
    "#tipos primitivos - int\n",
    "v= -2147483648\n",
    "print(\"Valor negativo do inteiro v= \")\n",
    "print(v)\n",
    "# O caracter _ pode ser usado para facilitar a leiruta de numeros grandes.\n",
    "v= 2_147_483_647\n",
    "print(\"Valor positivo do inteiro v= \" )\n",
    "print(v)\n",
    "\n"
   ]
  },
  {
   "cell_type": "markdown",
   "metadata": {
    "dotnet_interactive": {
     "language": "csharp"
    },
    "polyglot_notebook": {
     "kernelName": "csharp"
    }
   },
   "source": [
    "###  Tipo de dado inteiro \n",
    "Diferentemente da maioria das linguagens os tipos Inteiros têm precisão ilimitada em Python.\n",
    "\n",
    "Faça o teste¹"
   ]
  },
  {
   "cell_type": "code",
   "execution_count": 5,
   "metadata": {
    "colab": {
     "base_uri": "https://localhost:8080/"
    },
    "dotnet_interactive": {
     "language": "csharp"
    },
    "executionInfo": {
     "elapsed": 24,
     "status": "ok",
     "timestamp": 1648242165759,
     "user": {
      "displayName": "Elias Oliveira",
      "photoUrl": "https://lh3.googleusercontent.com/a-/AOh14GgpCAGkkzTWvcw3pD6a3inj6_qidbkL8g3rOuykLw=s64",
      "userId": "03206662063122040189"
     },
     "user_tz": 180
    },
    "id": "ZU5jt_vQwb4N",
    "outputId": "3cd3a89f-0c58-496b-9d8e-6045f203052a"
   },
   "outputs": [
    {
     "name": "stdout",
     "output_type": "stream",
     "text": [
      "Valor mínimo? do long v= \n",
      "-9223372036854775808\n",
      "Valor máximo? do long v= \n",
      "92233720368547758079223372036854775807\n"
     ]
    }
   ],
   "source": [
    "\n",
    "#tipos primitivos  - long\n",
    "v= -9_223_372_036_854_775_808\n",
    "print(\"Valor mínimo? do long v= \")\n",
    "print(v)\n",
    "v = 92233720368547758079223372036854775807\n",
    "print(\"Valor máximo? do long v= \")\n",
    "print(v)\n",
    "\n"
   ]
  },
  {
   "cell_type": "markdown",
   "metadata": {
    "dotnet_interactive": {
     "language": "csharp"
    },
    "polyglot_notebook": {
     "kernelName": "csharp"
    }
   },
   "source": [
    "###  Tipo de dado ponto flutuante (float)\n",
    "O tipo de dado double é um ponto flutuante IEEE 754 de 64 bits de precisão dupla. \n",
    "Números de ponto flutuante são geralmente implementados usando double em C; \n",
    "informações sobre a precisão e representação interna dos números de ponto flutuante para a máquina na qual seu programa está sendo executado estão disponíveis em sys.float_info.\n"
   ]
  },
  {
   "cell_type": "code",
   "execution_count": 6,
   "metadata": {
    "colab": {
     "base_uri": "https://localhost:8080/"
    },
    "dotnet_interactive": {
     "language": "csharp"
    },
    "executionInfo": {
     "elapsed": 24,
     "status": "ok",
     "timestamp": 1648242168392,
     "user": {
      "displayName": "Elias Oliveira",
      "photoUrl": "https://lh3.googleusercontent.com/a-/AOh14GgpCAGkkzTWvcw3pD6a3inj6_qidbkL8g3rOuykLw=s64",
      "userId": "03206662063122040189"
     },
     "user_tz": 180
    },
    "id": "TjO5L3Bt1vMA",
    "outputId": "6276797d-81af-46c8-97ea-0f2694e1cec3"
   },
   "outputs": [
    {
     "name": "stdout",
     "output_type": "stream",
     "text": [
      "Menor Valor que pode ser atribuido a um float\n",
      "2.2250738585072014e-308\n",
      "Maior Valor que pode ser atribuido a um float\n",
      "1.7976931348623157e+308\n",
      "<class 'float'>\n",
      "Valor do float v= \n",
      "1.7976931348623157e+308\n",
      "Valor do float após atribuição v= \n",
      "55.12345678\n"
     ]
    }
   ],
   "source": [
    "\n",
    "#tipos primitivos  - float\n",
    "import sys\n",
    "print(\"Menor Valor que pode ser atribuido a um float\")\n",
    "print (sys.float_info.min)\n",
    "print(\"Maior Valor que pode ser atribuido a um float\")\n",
    "print (sys.float_info.max)\n",
    "v= sys.float_info.max\n",
    "print(type(v))\n",
    "print(\"Valor do float v= \")\n",
    "print(v)\n",
    "\n",
    "\n",
    "v = 55.12345678\n",
    "print(\"Valor do float após atribuição v= \")\n",
    "print(v)\n",
    "\n",
    "\n"
   ]
  },
  {
   "cell_type": "markdown",
   "metadata": {
    "dotnet_interactive": {
     "language": "csharp"
    },
    "polyglot_notebook": {
     "kernelName": "csharp"
    }
   },
   "source": [
    "## String\n",
    "\n",
    "Os dados textuais em Python são tratados com objetos str, ou strings. \n",
    "Strings são sequências imutáveis de pontos de código Unicode. \n",
    "\n",
    "As strings literais são escritas de diversas maneiras:\n",
    "* Aspas simples: 'permitem aspas \"duplas\" internas'\n",
    "* Aspas duplas: \"permitem aspas 'simples' internas\"\n",
    "* Aspas triplas: '''Três aspas simples''', \"\"\"Três aspas duplas\"\"\"\n",
    "\n",
    "Strings de aspas triplas podem expandir por várias linhas – todos os espaços em branco associados serão incluídos em literal string."
   ]
  },
  {
   "cell_type": "code",
   "execution_count": 7,
   "metadata": {
    "colab": {
     "base_uri": "https://localhost:8080/"
    },
    "dotnet_interactive": {
     "language": "csharp"
    },
    "executionInfo": {
     "elapsed": 24,
     "status": "ok",
     "timestamp": 1648242170293,
     "user": {
      "displayName": "Elias Oliveira",
      "photoUrl": "https://lh3.googleusercontent.com/a-/AOh14GgpCAGkkzTWvcw3pD6a3inj6_qidbkL8g3rOuykLw=s64",
      "userId": "03206662063122040189"
     },
     "user_tz": 180
    },
    "id": "PbB2N7By1wJ3",
    "outputId": "c3b092e7-0b6c-4fc1-8fad-cd271f95989a"
   },
   "outputs": [
    {
     "name": "stdout",
     "output_type": "stream",
     "text": [
      "Alô Mundo 'Python' ! \n",
      "\"Prof.\" Elias.\n",
      "R. 'tres', 22\n",
      "AP. \"93\"\n",
      "Santana do Parnaíba\n"
     ]
    }
   ],
   "source": [
    "\n",
    "  # declaração e instanciação (mais prático)\n",
    "ola = \"Alô Mundo 'Python' ! \"\n",
    "nome = '\"Prof.\" Elias.'\n",
    "end = \"\"\"R. 'tres', 22\n",
    "AP. \"93\"\n",
    "Santana do Parnaíba\"\"\"\n",
    "print (ola)\n",
    "print(nome)\n",
    "print(end)\n",
    "\n",
    "\n",
    "\n"
   ]
  },
  {
   "cell_type": "markdown",
   "metadata": {
    "dotnet_interactive": {
     "language": "csharp"
    },
    "polyglot_notebook": {
     "kernelName": "csharp"
    }
   },
   "source": [
    "## Regras de nomeação de variáveis\n",
    "\n",
    "- Existem apenas algumas regras a seguir ao nomear suas variáveis.\n",
    "1. Os nomes das variáveis ​​podem conter letras, números e o sublinhado.\n",
    "2. Os nomes das variáveis ​​não podem conter espaços.\n",
    "3. Os nomes de variáveis ​​não podem começar com um número.\n",
    "4. Python é case sensitive  — por exemplo, temp e Temp são diferentes.\n",
    "\n",
    "- Para Ajuda a tornar seu programa mais compreensível se você escolher nomes que sejam descritivos, mas não\n",
    "tão longos que eles atravancam seu programa.\n",
    "\n",
    "\n",
    "- A linguagem de programação Python possui como regra de nomeação de variáveis o formato snake_case.\n",
    "\n",
    "- Este formato determina que o nome das variáveis possuam um padrão em que, as palavras sejam definidas em letras minúsculas e, caso possua, os espaços serão substituídos por “underline” conforme podemos verificar abaixo:"
   ]
  },
  {
   "cell_type": "code",
   "execution_count": 8,
   "metadata": {
    "dotnet_interactive": {
     "language": "csharp"
    },
    "polyglot_notebook": {
     "kernelName": "csharp"
    }
   },
   "outputs": [
    {
     "name": "stdout",
     "output_type": "stream",
     "text": [
      "Treinaweb\n"
     ]
    }
   ],
   "source": [
    "variavel_com_nome_composto = \"Treinaweb\" \n",
    "\n",
    "print(variavel_com_nome_composto) # Treinaweb\n"
   ]
  },
  {
   "cell_type": "markdown",
   "metadata": {
    "dotnet_interactive": {
     "language": "csharp"
    },
    "polyglot_notebook": {
     "kernelName": "csharp"
    }
   },
   "source": [
    "## Declarando constantes\n",
    "\n",
    "A regra de nomeação das constantes no Python segue um padrão parecido com as de variáveis, com a diferença de que todas as letras são maiúsculas e separadas por underline “_”. Porém, por possuir tipagem dinâmica, os valores atribuídos à constantes podem ser alterados sem problemas:\n",
    "\n"
   ]
  },
  {
   "cell_type": "code",
   "execution_count": 9,
   "metadata": {
    "dotnet_interactive": {
     "language": "csharp"
    },
    "polyglot_notebook": {
     "kernelName": "csharp"
    }
   },
   "outputs": [
    {
     "name": "stdout",
     "output_type": "stream",
     "text": [
      "10\n",
      "15\n"
     ]
    }
   ],
   "source": [
    "MINHA_CONSTANTE = 10\n",
    "\n",
    "print(MINHA_CONSTANTE) # 10\n",
    "\n",
    "MINHA_CONSTANTE = 15\n",
    "\n",
    "print(MINHA_CONSTANTE) # 10\n"
   ]
  },
  {
   "cell_type": "markdown",
   "metadata": {
    "dotnet_interactive": {
     "language": "csharp"
    },
    "polyglot_notebook": {
     "kernelName": "csharp"
    }
   },
   "source": [
    "## Conclusão\n",
    "Como vimos nesse artigo, o Python possui tipagem dinâmica e fraca, o que permite que uma variável possa armazenar dados de diferentes tipos em fases diferentes do script. \n",
    "Isso torna o processo de desenvolvimento mais simples, já que não precisamos nos preocupar com o tipo que uma variável vai armazenar, mas pode criar uma bagunça generalizada, caso você use uma variável para várias tarefas em seu programa, então é bom tomar cuidado e, principalmente, ser organizado quanto ao seu desenvolvimento."
   ]
  },
  {
   "cell_type": "markdown",
   "metadata": {
    "dotnet_interactive": {
     "language": "csharp"
    },
    "polyglot_notebook": {
     "kernelName": "csharp"
    }
   },
   "source": [
    "## Referências bibliográficas:\n",
    "\n",
    "https://docs.python.org/pt-br/3/library/stdtypes.html\n",
    "\n",
    "https://pythonacademy.com.br/blog/tipos-de-variaveis-no-python\n",
    "\n",
    "https://algoritmosempython.com.br/cursos/programacao-python/tipos-basicos/\n",
    "\n",
    "https://www.treinaweb.com.br/blog/conhecendo-variaveis-e-constantes-no-python/\n",
    "\n",
    "https://www.respondeai.com.br/conteudo/programacao/c/lista-de-exercicios/variaveis-e-constantes-1926\n",
    "\n",
    "PAIVA, Fábio et al. Introdução a Python com aplicações de sistemas operacionais. 2021. Disponível em: https://memoria.ifrn.edu.br/bitstream/handle/1044/2090/EBOOK%20-%20INTRODU%C3%87%C3%83O%20A%20PYTHON%20(EDITORA%20IFRN).pdf?sequence=1\n",
    "\n",
    "HEINOLD, Brian. A practical introduction to Python programming. 2021.\n"
   ]
  }
 ],
 "metadata": {
  "kernelspec": {
   "display_name": "Python 3 (ipykernel)",
   "language": "python",
   "name": "python3"
  },
  "language_info": {
   "codemirror_mode": {
    "name": "ipython",
    "version": 3
   },
   "file_extension": ".py",
   "mimetype": "text/x-python",
   "name": "python",
   "nbconvert_exporter": "python",
   "pygments_lexer": "ipython3",
   "version": "3.12.0"
  },
  "polyglot_notebook": {
   "kernelInfo": {
    "defaultKernelName": "csharp",
    "items": [
     {
      "aliases": [
       "c#",
       "C#"
      ],
      "languageName": "C#",
      "name": "csharp"
     },
     {
      "aliases": [],
      "name": ".NET"
     },
     {
      "aliases": [
       "f#",
       "F#"
      ],
      "languageName": "F#",
      "name": "fsharp"
     },
     {
      "aliases": [],
      "languageName": "HTML",
      "name": "html"
     },
     {
      "aliases": [
       "js"
      ],
      "languageName": "JavaScript",
      "name": "javascript"
     },
     {
      "aliases": [],
      "languageName": "KQL",
      "name": "kql"
     },
     {
      "aliases": [],
      "languageName": "Mermaid",
      "name": "mermaid"
     },
     {
      "aliases": [
       "powershell"
      ],
      "languageName": "PowerShell",
      "name": "pwsh"
     },
     {
      "aliases": [],
      "languageName": "SQL",
      "name": "sql"
     },
     {
      "aliases": [],
      "name": "value"
     },
     {
      "aliases": [],
      "name": "webview"
     },
     {
      "aliases": [
       "frontend"
      ],
      "languageName": null,
      "name": "vscode"
     }
    ]
   }
  }
 },
 "nbformat": 4,
 "nbformat_minor": 4
}
